{
 "cells": [
  {
   "cell_type": "markdown",
   "metadata": {},
   "source": [
    "#### Pedestrian Detection"
   ]
  },
  {
   "cell_type": "code",
   "execution_count": 3,
   "metadata": {},
   "outputs": [
    {
     "name": "stdout",
     "output_type": "stream",
     "text": [
      "Total number of bodies detected:  105\n"
     ]
    }
   ],
   "source": [
    "import cv2\n",
    "import numpy as np\n",
    "\n",
    "# body classifier\n",
    "body_classifer = cv2.CascadeClassifier(\"D:/Computer_Vision_Recap/haarcascades/haarcascade_fullbody.xml\")\n",
    "\n",
    "# init VideoCapture for Video file\n",
    "cap = cv2.VideoCapture(\"D:/Computer_Vision_Recap/images/Walking.avi\")\n",
    "\n",
    "bodies_num = []\n",
    "\n",
    "while cap.isOpened:            # true once video loaded succesfully\n",
    "    ret, frame = cap.read()    # reads first frame\n",
    "    frame = cv2.resize(frame, None, fx=0.6, fy =0.6, interpolation = cv2.INTER_LINEAR)  # decerease vid res for faster computation\n",
    "    \n",
    "    gray_image = cv2.cvtColor(frame, cv2.COLOR_BGR2GRAY)\n",
    "    # Pass video frame to classifier\n",
    "    bodies = body_classifer.detectMultiScale(gray_image, 1.2, 8)\n",
    "    bodies_num.append(len(bodies))\n",
    "    \n",
    "    # gets ROI and draw rect \n",
    "    for (x1, y1, x2, y2) in bodies:\n",
    "        cv2.rectangle(frame, (x1, y1), (x1+x2,y1+y2), (0, 0, 255), 3)\n",
    "        cv2.imshow(\"Pedestrian Detector\", frame)\n",
    "        \n",
    "    if cv2.waitKey(1) == 13:\n",
    "        break\n",
    "        \n",
    "print(\"Total number of bodies detected: \", len(bodies_num))\n",
    "cap.release()\n",
    "cv2.destroyAllWindows()"
   ]
  },
  {
   "cell_type": "markdown",
   "metadata": {},
   "source": [
    "#### Car Detection"
   ]
  },
  {
   "cell_type": "code",
   "execution_count": 15,
   "metadata": {},
   "outputs": [
    {
     "name": "stdout",
     "output_type": "stream",
     "text": [
      "Total number of cars detected:  426\n"
     ]
    }
   ],
   "source": [
    "import cv2\n",
    "import numpy as np\n",
    "import time\n",
    "\n",
    "# body classifier\n",
    "car_classifer = cv2.CascadeClassifier(\"D:/Computer_Vision_Recap/haarcascades/haarcascade_car.xml\")\n",
    "\n",
    "# init VideoCapture for Video file\n",
    "cap = cv2.VideoCapture(\"D:/Computer_Vision_Recap/images/cars.avi\")\n",
    "\n",
    "cars_num = []\n",
    "\n",
    "while cap.isOpened:            # true once video loaded succesfully\n",
    "    time.sleep(0.008)\n",
    "    ret, frame = cap.read()    # reads first frame\n",
    "    \n",
    "    gray_image = cv2.cvtColor(frame, cv2.COLOR_BGR2GRAY)\n",
    "    # Pass video frame to classifier\n",
    "    cars = car_classifer.detectMultiScale(gray_image, 1.1, 8)\n",
    "    cars_num.append(len(bodies))\n",
    "    \n",
    "    # gets ROI and draw rect \n",
    "    for (x1, y1, x2, y2) in cars:\n",
    "        cv2.rectangle(frame, (x1, y1), (x1+x2,y1+y2), (0, 0, 255), 3)\n",
    "        cv2.imshow(\"Car Detector\", frame)\n",
    "        \n",
    "    if cv2.waitKey(1) == 13:\n",
    "        break\n",
    "        \n",
    "print(\"Total number of cars detected: \", len(cars_num))\n",
    "cap.release()\n",
    "cv2.destroyAllWindows()"
   ]
  },
  {
   "cell_type": "code",
   "execution_count": null,
   "metadata": {},
   "outputs": [],
   "source": []
  },
  {
   "cell_type": "code",
   "execution_count": null,
   "metadata": {},
   "outputs": [],
   "source": []
  },
  {
   "cell_type": "code",
   "execution_count": null,
   "metadata": {},
   "outputs": [],
   "source": []
  },
  {
   "cell_type": "code",
   "execution_count": null,
   "metadata": {},
   "outputs": [],
   "source": []
  },
  {
   "cell_type": "code",
   "execution_count": null,
   "metadata": {},
   "outputs": [],
   "source": []
  },
  {
   "cell_type": "code",
   "execution_count": null,
   "metadata": {},
   "outputs": [],
   "source": []
  },
  {
   "cell_type": "code",
   "execution_count": null,
   "metadata": {},
   "outputs": [],
   "source": []
  },
  {
   "cell_type": "code",
   "execution_count": null,
   "metadata": {},
   "outputs": [],
   "source": []
  },
  {
   "cell_type": "code",
   "execution_count": null,
   "metadata": {},
   "outputs": [],
   "source": []
  },
  {
   "cell_type": "code",
   "execution_count": null,
   "metadata": {},
   "outputs": [],
   "source": []
  },
  {
   "cell_type": "code",
   "execution_count": null,
   "metadata": {},
   "outputs": [],
   "source": []
  },
  {
   "cell_type": "code",
   "execution_count": null,
   "metadata": {},
   "outputs": [],
   "source": []
  },
  {
   "cell_type": "code",
   "execution_count": null,
   "metadata": {},
   "outputs": [],
   "source": []
  },
  {
   "cell_type": "code",
   "execution_count": null,
   "metadata": {},
   "outputs": [],
   "source": []
  },
  {
   "cell_type": "code",
   "execution_count": null,
   "metadata": {},
   "outputs": [],
   "source": []
  },
  {
   "cell_type": "code",
   "execution_count": null,
   "metadata": {},
   "outputs": [],
   "source": []
  },
  {
   "cell_type": "code",
   "execution_count": null,
   "metadata": {},
   "outputs": [],
   "source": []
  },
  {
   "cell_type": "code",
   "execution_count": null,
   "metadata": {},
   "outputs": [],
   "source": []
  },
  {
   "cell_type": "code",
   "execution_count": null,
   "metadata": {},
   "outputs": [],
   "source": []
  },
  {
   "cell_type": "code",
   "execution_count": null,
   "metadata": {},
   "outputs": [],
   "source": []
  },
  {
   "cell_type": "code",
   "execution_count": null,
   "metadata": {},
   "outputs": [],
   "source": []
  },
  {
   "cell_type": "code",
   "execution_count": null,
   "metadata": {},
   "outputs": [],
   "source": []
  },
  {
   "cell_type": "code",
   "execution_count": null,
   "metadata": {},
   "outputs": [],
   "source": []
  }
 ],
 "metadata": {
  "kernelspec": {
   "display_name": "Python 3",
   "language": "python",
   "name": "python3"
  },
  "language_info": {
   "codemirror_mode": {
    "name": "ipython",
    "version": 3
   },
   "file_extension": ".py",
   "mimetype": "text/x-python",
   "name": "python",
   "nbconvert_exporter": "python",
   "pygments_lexer": "ipython3",
   "version": "3.8.3"
  }
 },
 "nbformat": 4,
 "nbformat_minor": 4
}
