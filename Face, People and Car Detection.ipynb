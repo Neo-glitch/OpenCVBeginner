{
 "cells": [
  {
   "cell_type": "markdown",
   "metadata": {},
   "source": [
    "#### Face and Eye Detection"
   ]
  },
  {
   "cell_type": "code",
   "execution_count": 1,
   "metadata": {},
   "outputs": [
    {
     "name": "stdout",
     "output_type": "stream",
     "text": [
      "1\n"
     ]
    }
   ],
   "source": [
    "##### FACE DETECTION ####\n",
    "\n",
    "import cv2\n",
    "import numpy as np\n",
    "\n",
    "# loads classifier\n",
    "face_classifier = cv2.CascadeClassifier(\"D:/Computer_Vision_Recap/haarcascades/haarcascade_frontalface_default.xml\")\n",
    "\n",
    "image = cv2.imread(\"D:/Computer_Vision_Recap/images/Hillary.jpg\")\n",
    "gray_image = cv2.cvtColor(image, cv2.COLOR_BGR2GRAY)\n",
    "\n",
    "# classfier returns ROI of deteected faces as tuple of arrays and stores top_left and bottom_right\n",
    "faces = face_classifier.detectMultiScale(gray_image, 1.3, 5)\n",
    "\n",
    "if len(faces) == 0:     # true when no faces detected\n",
    "    print(\"No Faces Detected\")\n",
    "    \n",
    "# iterate through faces and draw a rect over each detected face\n",
    "for (x1, y1, x2, y2) in faces:\n",
    "    cv2.rectangle(image, (x1, y1), (x1+x2, y1+y2), (0, 0, 254), 2)\n",
    "    cv2.imshow(\"Face Detection tool\", image)\n",
    "    cv2.waitKey(0)\n",
    "    \n",
    "cv2.destroyAllWindows()\n"
   ]
  },
  {
   "cell_type": "code",
   "execution_count": 2,
   "metadata": {},
   "outputs": [
    {
     "name": "stdout",
     "output_type": "stream",
     "text": [
      "1\n",
      "2\n"
     ]
    }
   ],
   "source": [
    "#### fACE AND EYE DETECTION ###\n",
    "import cv2\n",
    "import numpy as np\n",
    "\n",
    "face_classifier = cv2.CascadeClassifier(\"D:/Computer_Vision_Recap/haarcascades/haarcascade_frontalface_default.xml\")\n",
    "eye_classifier = cv2.CascadeClassifier(\"D:/Computer_Vision_Recap/haarcascades/haarcascade_eye.xml\")\n",
    "\n",
    "img = cv2.imread(\"D:/Computer_Vision_Recap/images/kim.jpg\")\n",
    "gray_img = cv2.cvtColor(img, cv2.COLOR_BGR2GRAY)\n",
    "\n",
    "faces = face_classifier.detectMultiScale(gray_img, 1.3, 5)\n",
    "\n",
    "\n",
    "if len(faces) == 0:\n",
    "    print(\"No Faces Found in image\")\n",
    "    \n",
    "for (x1, y1, x2, y2) in faces:\n",
    "    cv2.rectangle(img, (x1, y1), (x1+x2, y1+y2), (0, 0, 255), 4)\n",
    "    cv2.imshow(\"Face detection only \", img)\n",
    "    cv2.waitKey(0)\n",
    "    cv2.destroyAllWindows()\n",
    "    \n",
    "    # cropps out the ROI in gray image for classifier and in img for drawing\n",
    "    roi_gray_img = gray_img[y1:y1+y2, x1:x1+x2]\n",
    "    roi_color_img = img[y1:y1+y2, x1:x1+x2]\n",
    "    eyes = eye_classifier.detectMultiScale(roi_gray_img)\n",
    "    \n",
    "    if(len(eyes) == 0):\n",
    "        print(\"No Eyes detected in the Photo\")\n",
    "    \n",
    "    for (ex1, ey1, ex2, ey2) in eyes:\n",
    "        cv2.rectangle(roi_color_img, (ex1, ey1), (ex1+ex2, ey1+ey2), (233, 0, 0), 2)\n",
    "        cv2.imshow(\"Eye Detection along with face detection\", img)\n",
    "        cv2.waitKey(0)\n",
    "        \n",
    "        \n",
    "cv2.destroyAllWindows()"
   ]
  },
  {
   "cell_type": "code",
   "execution_count": 13,
   "metadata": {},
   "outputs": [],
   "source": [
    "###### FACE AND EYE DETECTION USING WEBCAM #####\n",
    "\n",
    "import cv2\n",
    "import numpy as np\n",
    "\n",
    "def face_detector(image, size = 0.5):\n",
    "    #func takes colored image from webcam as input and detectes face and eye\n",
    "    face_classifier = cv2.CascadeClassifier(\"D:/Computer_Vision_Recap/haarcascades/haarcascade_frontalface_default.xml\")\n",
    "    eye_classifier = cv2.CascadeClassifier(\"D:/Computer_Vision_Recap/haarcascades/haarcascade_eye.xml\")\n",
    "    \n",
    "    gray_image = cv2.cvtColor(image, cv2.COLOR_BGR2GRAY)\n",
    "    # scale factor(1.05) means how much we rduce image each time we scale to get features\n",
    "    faces = face_classifier.detectMultiScale(gray_image, 1.05, 3)\n",
    "    if len(faces) == 0:\n",
    "        info_text = \"Face not detected\"\n",
    "        cv2.putText(image, info_text, (5, 150), cv2.FONT_HERSHEY_TRIPLEX, 1, (100, 200, 100), 1)\n",
    "        return image\n",
    "    \n",
    "    for(x1, y1, x2, y2) in faces:\n",
    "        x1 = x1 - 50\n",
    "        x2 = x2 + 50\n",
    "        y1 = y1 - 50\n",
    "        y2 = y2 + 50\n",
    "        cv2.rectangle(image, (x1, y1), (x1+x2, y1+y2), (0, 0, 255), 2)\n",
    "        roi_gray_image = gray_image[y1:y1+y2, x1:x1+x2]\n",
    "        roi_image = image[y1:y1+y2, x1:x1+x2]\n",
    "        eyes = eye_classifier.detectMultiScale(roi_gray_image)\n",
    "        \n",
    "#         if len(eyes) == 0:\n",
    "#             info_text = \"Eyes not detected in image\"\n",
    "#             cv2.putText(roi_image, info_text, (100, 100), cv2.FONT_HERSHEY_TRIPLEX, 1, (100, 100, 100), 1)\n",
    "#             return roi_image\n",
    "        \n",
    "        for(ex1, ey1, ex2, ey2) in eyes:\n",
    "            cv2.rectangle(roi_image, (ex1, ey1), (ex1+ex2, ey1+ey2), (255, 0, 0), 2)\n",
    "            \n",
    "    roi_image = cv2.flip(roi_image, 1)    # to get mirror like image\n",
    "    return roi_image\n",
    "\n",
    "cap = cv2.VideoCapture(0)\n",
    "\n",
    "while True:\n",
    "    ret, frame = cap.read()\n",
    "    cv2.imshow(\"Neo's face and eye detector\", face_detector(frame))\n",
    "    if cv2.waitKey(1) == 13:    # 13 == EnterKey\n",
    "        break\n",
    "        \n",
    "        \n",
    "cap.release()\n",
    "cv2.destroyAllWindows()\n",
    "    "
   ]
  },
  {
   "cell_type": "code",
   "execution_count": null,
   "metadata": {},
   "outputs": [],
   "source": []
  },
  {
   "cell_type": "code",
   "execution_count": null,
   "metadata": {},
   "outputs": [],
   "source": []
  },
  {
   "cell_type": "code",
   "execution_count": null,
   "metadata": {},
   "outputs": [],
   "source": []
  },
  {
   "cell_type": "code",
   "execution_count": null,
   "metadata": {},
   "outputs": [],
   "source": []
  },
  {
   "cell_type": "code",
   "execution_count": null,
   "metadata": {},
   "outputs": [],
   "source": []
  },
  {
   "cell_type": "code",
   "execution_count": null,
   "metadata": {},
   "outputs": [],
   "source": []
  },
  {
   "cell_type": "code",
   "execution_count": null,
   "metadata": {},
   "outputs": [],
   "source": []
  },
  {
   "cell_type": "code",
   "execution_count": null,
   "metadata": {},
   "outputs": [],
   "source": []
  },
  {
   "cell_type": "code",
   "execution_count": null,
   "metadata": {},
   "outputs": [],
   "source": []
  },
  {
   "cell_type": "code",
   "execution_count": null,
   "metadata": {},
   "outputs": [],
   "source": []
  },
  {
   "cell_type": "code",
   "execution_count": null,
   "metadata": {},
   "outputs": [],
   "source": []
  },
  {
   "cell_type": "code",
   "execution_count": null,
   "metadata": {},
   "outputs": [],
   "source": []
  },
  {
   "cell_type": "code",
   "execution_count": null,
   "metadata": {},
   "outputs": [],
   "source": []
  },
  {
   "cell_type": "code",
   "execution_count": null,
   "metadata": {},
   "outputs": [],
   "source": []
  },
  {
   "cell_type": "code",
   "execution_count": null,
   "metadata": {},
   "outputs": [],
   "source": []
  },
  {
   "cell_type": "code",
   "execution_count": null,
   "metadata": {},
   "outputs": [],
   "source": []
  },
  {
   "cell_type": "code",
   "execution_count": null,
   "metadata": {},
   "outputs": [],
   "source": []
  },
  {
   "cell_type": "code",
   "execution_count": null,
   "metadata": {},
   "outputs": [],
   "source": []
  },
  {
   "cell_type": "code",
   "execution_count": null,
   "metadata": {},
   "outputs": [],
   "source": []
  },
  {
   "cell_type": "code",
   "execution_count": null,
   "metadata": {},
   "outputs": [],
   "source": []
  },
  {
   "cell_type": "code",
   "execution_count": null,
   "metadata": {},
   "outputs": [],
   "source": []
  },
  {
   "cell_type": "code",
   "execution_count": null,
   "metadata": {},
   "outputs": [],
   "source": []
  },
  {
   "cell_type": "code",
   "execution_count": null,
   "metadata": {},
   "outputs": [],
   "source": []
  },
  {
   "cell_type": "code",
   "execution_count": null,
   "metadata": {},
   "outputs": [],
   "source": []
  },
  {
   "cell_type": "code",
   "execution_count": null,
   "metadata": {},
   "outputs": [],
   "source": []
  },
  {
   "cell_type": "code",
   "execution_count": null,
   "metadata": {},
   "outputs": [],
   "source": []
  },
  {
   "cell_type": "code",
   "execution_count": null,
   "metadata": {},
   "outputs": [],
   "source": []
  },
  {
   "cell_type": "code",
   "execution_count": null,
   "metadata": {},
   "outputs": [],
   "source": []
  },
  {
   "cell_type": "code",
   "execution_count": null,
   "metadata": {},
   "outputs": [],
   "source": []
  },
  {
   "cell_type": "code",
   "execution_count": null,
   "metadata": {},
   "outputs": [],
   "source": []
  },
  {
   "cell_type": "code",
   "execution_count": null,
   "metadata": {},
   "outputs": [],
   "source": []
  },
  {
   "cell_type": "code",
   "execution_count": null,
   "metadata": {},
   "outputs": [],
   "source": []
  },
  {
   "cell_type": "code",
   "execution_count": null,
   "metadata": {},
   "outputs": [],
   "source": []
  },
  {
   "cell_type": "code",
   "execution_count": null,
   "metadata": {},
   "outputs": [],
   "source": []
  },
  {
   "cell_type": "code",
   "execution_count": null,
   "metadata": {},
   "outputs": [],
   "source": []
  },
  {
   "cell_type": "code",
   "execution_count": null,
   "metadata": {},
   "outputs": [],
   "source": []
  },
  {
   "cell_type": "code",
   "execution_count": null,
   "metadata": {},
   "outputs": [],
   "source": []
  },
  {
   "cell_type": "code",
   "execution_count": null,
   "metadata": {},
   "outputs": [],
   "source": []
  },
  {
   "cell_type": "code",
   "execution_count": null,
   "metadata": {},
   "outputs": [],
   "source": []
  },
  {
   "cell_type": "code",
   "execution_count": null,
   "metadata": {},
   "outputs": [],
   "source": []
  },
  {
   "cell_type": "code",
   "execution_count": null,
   "metadata": {},
   "outputs": [],
   "source": []
  },
  {
   "cell_type": "code",
   "execution_count": null,
   "metadata": {},
   "outputs": [],
   "source": []
  },
  {
   "cell_type": "code",
   "execution_count": null,
   "metadata": {},
   "outputs": [],
   "source": []
  },
  {
   "cell_type": "code",
   "execution_count": null,
   "metadata": {},
   "outputs": [],
   "source": []
  },
  {
   "cell_type": "code",
   "execution_count": null,
   "metadata": {},
   "outputs": [],
   "source": []
  }
 ],
 "metadata": {
  "kernelspec": {
   "display_name": "Python 3",
   "language": "python",
   "name": "python3"
  },
  "language_info": {
   "codemirror_mode": {
    "name": "ipython",
    "version": 3
   },
   "file_extension": ".py",
   "mimetype": "text/x-python",
   "name": "python",
   "nbconvert_exporter": "python",
   "pygments_lexer": "ipython3",
   "version": "3.8.3"
  }
 },
 "nbformat": 4,
 "nbformat_minor": 4
}
