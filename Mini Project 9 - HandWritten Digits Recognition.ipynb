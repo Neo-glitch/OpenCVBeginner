{
 "cells": [
  {
   "cell_type": "code",
   "execution_count": 1,
   "metadata": {},
   "outputs": [
    {
     "name": "stdout",
     "output_type": "stream",
     "text": [
      "The shape of our cells array: (50, 100, 20, 20)\n",
      "Accuracy is: 93.47%\n"
     ]
    }
   ],
   "source": [
    "##### Data Prep, Training and Evaluation########\n",
    "import cv2\n",
    "import numpy as np\n",
    "\n",
    "# the digits dataset\n",
    "image = cv2.imread(\"D:/Computer_Vision_Recap/images/digits.png\")\n",
    "gray_image = cv2.cvtColor(image, cv2.COLOR_BGR2GRAY)\n",
    "small = cv2.pyrDown(image)\n",
    "cv2.imshow(\"Digits Image\", small)\n",
    "cv2.waitKey(0)\n",
    "cv2.destroyAllWindows()\n",
    "\n",
    "\n",
    "# splits the image to 5000cells, each of 20 x 20 size giving a 4d array \n",
    "# i.e 50 x 100 x 20 x20\n",
    "cells = [np.hsplit(row, 100) for row in np.vsplit(gray_image, 50)]\n",
    "\n",
    "# converts the list data type to np array of shape(50, 100, 20, 20)\n",
    "x = np.array(cells)\n",
    "print(\"The shape of our cells array: \" + str(x.shape))\n",
    "\n",
    "# splits dset into training(0.7) and test(0.3) \n",
    "train = x[:,:70].reshape(-1, 400).astype(np.float32)\n",
    "test = x[:,70:100].reshape(-1, 400).astype(np.float32)\n",
    "\n",
    "# label creation for test and train data\n",
    "# k = np.arange(10)\n",
    "k = [0,1,2,3,4,5,6,7,8,9]\n",
    "train_labels = np.repeat(k, 350)[:, np.newaxis]\n",
    "test_labels = np.repeat(k, 150)[:, np.newaxis]\n",
    "\n",
    "# inti and train knn\n",
    "knn = cv2.ml.KNearest_create()\n",
    "knn.train(train, cv2.ml.ROW_SAMPLE, train_labels)\n",
    "ret, result, neighbours, distance = knn.findNearest(test, k = 3)\n",
    "\n",
    "# Accuracy check using test data\n",
    "matches = result == test_labels\n",
    "correct = np.count_nonzero(matches)     # gets total num of times matches val is not zero(true)\n",
    "accuracy = correct * (100.0 / result.size)\n",
    "print(\"Accuracy is: {0:.2f}%\".format(accuracy))"
   ]
  },
  {
   "cell_type": "code",
   "execution_count": 2,
   "metadata": {},
   "outputs": [],
   "source": [
    "#### func to prepare an input image ####\n",
    "import numpy as np\n",
    "import cv2\n",
    "\n",
    "def x_cord_contour(contour):\n",
    "    # takes contours found and outputs the X centroid cords\n",
    "    if(cv2.contourArea(contour) > 10):\n",
    "        M = cv2.moments(contour)\n",
    "        return (int(M[\"m10\"] / M[\"m00\"]))\n",
    "    \n",
    "def makeSquare(img_not_square):\n",
    "    # takes xtracted contorus and makes it into a square image\n",
    "    # and padds with black pixel when needed\n",
    "    black = [0, 0, 0]\n",
    "    img_dim = img_not_square.shape\n",
    "    height = img_dim[0]\n",
    "    width = img_dim[1]\n",
    "    \n",
    "    if(height == width):    # true if img arg is in square dim\n",
    "        square = img_not_square\n",
    "        return square\n",
    "    else:\n",
    "        doublesize = cv2.resize(img_not_square, (2*width, 2*height), interpolation = cv2.INTER_CUBIC)\n",
    "        height = height * 2\n",
    "        width = width * 2\n",
    "        if(height > width):\n",
    "            pad = (height - width) / 2     # padding pixel\n",
    "            pad = int(pad)\n",
    "            print(\"Padding h > w: \", pad)\n",
    "            doublesize_square = cv2.copyMakeBorder(doublesize, 0, 0, pad, \\\n",
    "                                                  pad, cv2.BORDER_CONSTANT, value = black)\n",
    "        else:\n",
    "            pad = (height - width) / 2     # padding pixel\n",
    "            pad=int(pad)\n",
    "            print(\"Padding h > w: \", pad)\n",
    "            doublesize_square = cv2.copyMakeBorder(doublesize, pad, pad, 0,\\\n",
    "                                                  0, cv2.BORDER_CONSTANT, value = black)\n",
    "            \n",
    "    doublesize_square_dim = doublesize_square.shape\n",
    "    return doublesize_square\n",
    "            \n",
    "def resize_to_pixel(dimensions, image):\n",
    "    # resizes image to specified dimension needed for input i.e (20 x 20)\n",
    "    # dimensionws is dim to resezie to and image is the squared_image\n",
    "    buffer_pix = 4\n",
    "    dimensions = dimensions - buffer_pix\n",
    "    squared = image\n",
    "    squared = np.array(squared)\n",
    "    r = dimensions / squared.shape[1]\n",
    "    dim = (dimensions, int(squared.shape[0] * r))\n",
    "    resized = cv2.resize(image, dim, interpolation = cv2.INTER_AREA)\n",
    "    img_dim2 = resized.shape\n",
    "    height_r = img_dim2[0]\n",
    "    width_r = img_dim2[1]\n",
    "    black = [0, 0, 0]\n",
    "    if(height_r > width_r):\n",
    "        resized = cv2.copyMakeBorder(resized,0,0,0,1,\n",
    "                                    cv2.BORDER_CONSTANT, value = black)\n",
    "    if(height_r < width_r):\n",
    "        resized = cv2.copyMakeBorder(resized,1,0,0,0,\n",
    "                                    cv2.BORDER_CONSTANT, value = black)\n",
    "    p = 2\n",
    "    resizedImg = cv2.copyMakeBorder(resized, p,p,p,p,\n",
    "                                   cv2.BORDER_CONSTANT, value=black)\n",
    "    img_dim = resizedImg.shape\n",
    "    height = img_dim[0]\n",
    "    width = img_dim[1]\n",
    "    print(\"Padded Height = \", height, \"Width = \", width)\n",
    "    return resizedImg\n",
    "    "
   ]
  },
  {
   "cell_type": "code",
   "execution_count": 3,
   "metadata": {},
   "outputs": [
    {
     "name": "stdout",
     "output_type": "stream",
     "text": [
      "x2:25, y249\n",
      "Padding h > w:  24\n",
      "Padded Height =  20 Width =  20\n",
      "x2:30, y261\n",
      "Padding h > w:  31\n",
      "Padded Height =  20 Width =  20\n",
      "x2:8, y28\n",
      "x2:25, y216\n",
      "x2:21, y260\n",
      "Padding h > w:  39\n",
      "Padded Height =  20 Width =  20\n",
      "x2:86, y2338\n",
      "Padding h > w:  252\n",
      "Padded Height =  20 Width =  20\n",
      "x2:61, y2340\n",
      "Padding h > w:  279\n",
      "Padded Height =  20 Width =  20\n",
      "x2:37, y2276\n",
      "Padding h > w:  239\n",
      "Padded Height =  20 Width =  20\n",
      "x2:128, y2337\n",
      "Padding h > w:  209\n",
      "Padded Height =  20 Width =  20\n",
      "x2:400, y223\n",
      "x2:43, y230\n",
      "Padding h > w:  -13\n"
     ]
    },
    {
     "ename": "error",
     "evalue": "OpenCV(4.2.0) C:\\projects\\opencv-python\\opencv\\modules\\core\\src\\copy.cpp:1421: error: (-215:Assertion failed) top >= 0 && bottom >= 0 && left >= 0 && right >= 0 && _src.dims() <= 2 in function 'cv::copyMakeBorder'\n",
     "output_type": "error",
     "traceback": [
      "\u001b[1;31m---------------------------------------------------------------------------\u001b[0m",
      "\u001b[1;31merror\u001b[0m                                     Traceback (most recent call last)",
      "\u001b[1;32m<ipython-input-3-f249da657c65>\u001b[0m in \u001b[0;36m<module>\u001b[1;34m\u001b[0m\n\u001b[0;32m     24\u001b[0m         \u001b[0mroi\u001b[0m \u001b[1;33m=\u001b[0m \u001b[0mblurred\u001b[0m\u001b[1;33m[\u001b[0m\u001b[0my1\u001b[0m\u001b[1;33m:\u001b[0m\u001b[0my1\u001b[0m\u001b[1;33m+\u001b[0m\u001b[0my2\u001b[0m\u001b[1;33m,\u001b[0m \u001b[0mx1\u001b[0m\u001b[1;33m:\u001b[0m\u001b[0mx1\u001b[0m\u001b[1;33m+\u001b[0m\u001b[0mx2\u001b[0m\u001b[1;33m]\u001b[0m\u001b[1;33m\u001b[0m\u001b[1;33m\u001b[0m\u001b[0m\n\u001b[0;32m     25\u001b[0m         \u001b[0mret\u001b[0m\u001b[1;33m,\u001b[0m \u001b[0mroi\u001b[0m \u001b[1;33m=\u001b[0m \u001b[0mcv2\u001b[0m\u001b[1;33m.\u001b[0m\u001b[0mthreshold\u001b[0m\u001b[1;33m(\u001b[0m\u001b[0mroi\u001b[0m\u001b[1;33m,\u001b[0m \u001b[1;36m127\u001b[0m\u001b[1;33m,\u001b[0m \u001b[1;36m255\u001b[0m\u001b[1;33m,\u001b[0m \u001b[0mcv2\u001b[0m\u001b[1;33m.\u001b[0m\u001b[0mTHRESH_BINARY_INV\u001b[0m\u001b[1;33m)\u001b[0m\u001b[1;33m\u001b[0m\u001b[1;33m\u001b[0m\u001b[0m\n\u001b[1;32m---> 26\u001b[1;33m         \u001b[0msquared_image\u001b[0m \u001b[1;33m=\u001b[0m \u001b[0mmakeSquare\u001b[0m\u001b[1;33m(\u001b[0m\u001b[0mroi\u001b[0m\u001b[1;33m)\u001b[0m                \u001b[1;31m# gets the squared image\u001b[0m\u001b[1;33m\u001b[0m\u001b[1;33m\u001b[0m\u001b[0m\n\u001b[0m\u001b[0;32m     27\u001b[0m         \u001b[0mfinal_image\u001b[0m \u001b[1;33m=\u001b[0m \u001b[0mresize_to_pixel\u001b[0m\u001b[1;33m(\u001b[0m\u001b[1;36m20\u001b[0m\u001b[1;33m,\u001b[0m \u001b[0msquared_image\u001b[0m\u001b[1;33m)\u001b[0m     \u001b[1;31m# gets the 20 x 20 image\u001b[0m\u001b[1;33m\u001b[0m\u001b[1;33m\u001b[0m\u001b[0m\n\u001b[0;32m     28\u001b[0m         \u001b[0mfinal_array\u001b[0m \u001b[1;33m=\u001b[0m \u001b[0mfinal_image\u001b[0m\u001b[1;33m.\u001b[0m\u001b[0mreshape\u001b[0m\u001b[1;33m(\u001b[0m\u001b[1;33m(\u001b[0m\u001b[1;36m1\u001b[0m\u001b[1;33m,\u001b[0m \u001b[1;36m400\u001b[0m\u001b[1;33m)\u001b[0m\u001b[1;33m)\u001b[0m     \u001b[1;31m# i.e 1 x 400 i.e flattened 20 x 20\u001b[0m\u001b[1;33m\u001b[0m\u001b[1;33m\u001b[0m\u001b[0m\n",
      "\u001b[1;32m<ipython-input-2-1ce24141491a>\u001b[0m in \u001b[0;36mmakeSquare\u001b[1;34m(img_not_square)\u001b[0m\n\u001b[0;32m     35\u001b[0m             \u001b[0mprint\u001b[0m\u001b[1;33m(\u001b[0m\u001b[1;34m\"Padding h > w: \"\u001b[0m\u001b[1;33m,\u001b[0m \u001b[0mpad\u001b[0m\u001b[1;33m)\u001b[0m\u001b[1;33m\u001b[0m\u001b[1;33m\u001b[0m\u001b[0m\n\u001b[0;32m     36\u001b[0m             doublesize_square = cv2.copyMakeBorder(doublesize, pad, pad, 0,\\\n\u001b[1;32m---> 37\u001b[1;33m                                                   0, cv2.BORDER_CONSTANT, value = black)\n\u001b[0m\u001b[0;32m     38\u001b[0m \u001b[1;33m\u001b[0m\u001b[0m\n\u001b[0;32m     39\u001b[0m     \u001b[0mdoublesize_square_dim\u001b[0m \u001b[1;33m=\u001b[0m \u001b[0mdoublesize_square\u001b[0m\u001b[1;33m.\u001b[0m\u001b[0mshape\u001b[0m\u001b[1;33m\u001b[0m\u001b[1;33m\u001b[0m\u001b[0m\n",
      "\u001b[1;31merror\u001b[0m: OpenCV(4.2.0) C:\\projects\\opencv-python\\opencv\\modules\\core\\src\\copy.cpp:1421: error: (-215:Assertion failed) top >= 0 && bottom >= 0 && left >= 0 && right >= 0 && _src.dims() <= 2 in function 'cv::copyMakeBorder'\n"
     ]
    }
   ],
   "source": [
    "import cv2\n",
    "import numpy as np\n",
    "\n",
    "image = cv2.imread(\"D:/Computer_Vision_Recap/images/digits.jpg\")\n",
    "image = cv2.resize(image, (400,400), interpolation = cv2.INTER_AREA)\n",
    "gray_image = cv2.cvtColor(image, cv2.COLOR_BGR2GRAY)\n",
    "\n",
    "# blur image and canny detect op\n",
    "blurred = cv2.GaussianBlur(gray_image, (5, 5), 0)\n",
    "edged = cv2.Canny(blurred, 30, 130)\n",
    "\n",
    "# finds contours and sorts\n",
    "contours, heirachy = cv2.findContours(edged.copy(), cv2.RETR_EXTERNAL, cv2.CHAIN_APPROX_SIMPLE)\n",
    "# sorted_contours = sorted(contours, key = x_cord_contour, reverse = False)\n",
    "\n",
    "# array to store entire number\n",
    "full_number = []\n",
    "\n",
    "for contour in contours:\n",
    "    (x1, y1, x2, y2) = cv2.boundingRect(contour)      # gets boundgin box of the contour\n",
    "    print(\"x2:{0}, y2{1}\".format(x2, y2))\n",
    "    \n",
    "    if x2 >= 5 and y2 >= 25:          # contouring filtering condition\n",
    "        roi = blurred[y1:y1+y2, x1:x1+x2]\n",
    "        ret, roi = cv2.threshold(roi, 127, 255, cv2.THRESH_BINARY_INV)\n",
    "        squared_image = makeSquare(roi)                # gets the squared image\n",
    "        final_image = resize_to_pixel(20, squared_image)     # gets the 20 x 20 image\n",
    "        final_array = final_image.reshape((1, 400))     # i.e 1 x 400 i.e flattened 20 x 20\n",
    "        final_array = final_array.astype(np.float32)\n",
    "        # does the prediction\n",
    "        ret, result, neighbours, dist = knn.findNearest(final_array, k = 3)\n",
    "        num = str(int(float(result[0])))       # gets result of prediction\n",
    "        full_number.append(num)\n",
    "        \n",
    "        # draw rect over image and show the prediction\n",
    "        cv2.rectangle(image, (x1, y1), (x1+x2, y1+y2), (255, 0, 50), 2)\n",
    "        cv2.putText(image, num, (x1, y1 + 155),\n",
    "                   cv2.FONT_HERSHEY_PLAIN, 2, (0,0,200), 2)\n",
    "        cv2.imshow(\"Image\", image)\n",
    "        cv2.waitKey(0)\n",
    "        \n",
    "cv2.destroyAllWindows()\n",
    "print(\"The number deteted is: \" + \"\".join(full_number))\n",
    "        "
   ]
  },
  {
   "cell_type": "code",
   "execution_count": 46,
   "metadata": {},
   "outputs": [
    {
     "ename": "NameError",
     "evalue": "name 'squared' is not defined",
     "output_type": "error",
     "traceback": [
      "\u001b[1;31m---------------------------------------------------------------------------\u001b[0m",
      "\u001b[1;31mNameError\u001b[0m                                 Traceback (most recent call last)",
      "\u001b[1;32m<ipython-input-46-9af6b67ffee4>\u001b[0m in \u001b[0;36m<module>\u001b[1;34m\u001b[0m\n\u001b[1;32m----> 1\u001b[1;33m \u001b[0msquared\u001b[0m\u001b[1;33m.\u001b[0m\u001b[0mshape\u001b[0m\u001b[1;33m\u001b[0m\u001b[1;33m\u001b[0m\u001b[0m\n\u001b[0m",
      "\u001b[1;31mNameError\u001b[0m: name 'squared' is not defined"
     ]
    }
   ],
   "source": [
    "squared.shape"
   ]
  },
  {
   "cell_type": "code",
   "execution_count": null,
   "metadata": {},
   "outputs": [],
   "source": []
  },
  {
   "cell_type": "code",
   "execution_count": null,
   "metadata": {},
   "outputs": [],
   "source": []
  },
  {
   "cell_type": "code",
   "execution_count": null,
   "metadata": {},
   "outputs": [],
   "source": []
  },
  {
   "cell_type": "code",
   "execution_count": null,
   "metadata": {},
   "outputs": [],
   "source": []
  },
  {
   "cell_type": "code",
   "execution_count": null,
   "metadata": {},
   "outputs": [],
   "source": []
  },
  {
   "cell_type": "code",
   "execution_count": null,
   "metadata": {},
   "outputs": [],
   "source": []
  },
  {
   "cell_type": "code",
   "execution_count": null,
   "metadata": {},
   "outputs": [],
   "source": []
  },
  {
   "cell_type": "code",
   "execution_count": null,
   "metadata": {},
   "outputs": [],
   "source": []
  },
  {
   "cell_type": "code",
   "execution_count": null,
   "metadata": {},
   "outputs": [],
   "source": []
  },
  {
   "cell_type": "code",
   "execution_count": null,
   "metadata": {},
   "outputs": [],
   "source": []
  },
  {
   "cell_type": "code",
   "execution_count": null,
   "metadata": {},
   "outputs": [],
   "source": []
  },
  {
   "cell_type": "code",
   "execution_count": null,
   "metadata": {},
   "outputs": [],
   "source": []
  },
  {
   "cell_type": "code",
   "execution_count": null,
   "metadata": {},
   "outputs": [],
   "source": []
  },
  {
   "cell_type": "code",
   "execution_count": null,
   "metadata": {},
   "outputs": [],
   "source": []
  },
  {
   "cell_type": "code",
   "execution_count": null,
   "metadata": {},
   "outputs": [],
   "source": []
  },
  {
   "cell_type": "code",
   "execution_count": null,
   "metadata": {},
   "outputs": [],
   "source": []
  },
  {
   "cell_type": "code",
   "execution_count": null,
   "metadata": {},
   "outputs": [],
   "source": []
  },
  {
   "cell_type": "code",
   "execution_count": null,
   "metadata": {},
   "outputs": [],
   "source": []
  },
  {
   "cell_type": "code",
   "execution_count": null,
   "metadata": {},
   "outputs": [],
   "source": []
  },
  {
   "cell_type": "code",
   "execution_count": null,
   "metadata": {},
   "outputs": [],
   "source": []
  },
  {
   "cell_type": "code",
   "execution_count": null,
   "metadata": {},
   "outputs": [],
   "source": []
  },
  {
   "cell_type": "code",
   "execution_count": null,
   "metadata": {},
   "outputs": [],
   "source": []
  },
  {
   "cell_type": "code",
   "execution_count": null,
   "metadata": {},
   "outputs": [],
   "source": []
  },
  {
   "cell_type": "code",
   "execution_count": null,
   "metadata": {},
   "outputs": [],
   "source": []
  },
  {
   "cell_type": "code",
   "execution_count": null,
   "metadata": {},
   "outputs": [],
   "source": []
  },
  {
   "cell_type": "code",
   "execution_count": null,
   "metadata": {},
   "outputs": [],
   "source": []
  },
  {
   "cell_type": "code",
   "execution_count": null,
   "metadata": {},
   "outputs": [],
   "source": []
  },
  {
   "cell_type": "code",
   "execution_count": null,
   "metadata": {},
   "outputs": [],
   "source": []
  },
  {
   "cell_type": "code",
   "execution_count": null,
   "metadata": {},
   "outputs": [],
   "source": []
  },
  {
   "cell_type": "code",
   "execution_count": null,
   "metadata": {},
   "outputs": [],
   "source": []
  },
  {
   "cell_type": "code",
   "execution_count": null,
   "metadata": {},
   "outputs": [],
   "source": []
  },
  {
   "cell_type": "code",
   "execution_count": null,
   "metadata": {},
   "outputs": [],
   "source": []
  },
  {
   "cell_type": "code",
   "execution_count": null,
   "metadata": {},
   "outputs": [],
   "source": []
  },
  {
   "cell_type": "code",
   "execution_count": null,
   "metadata": {},
   "outputs": [],
   "source": []
  },
  {
   "cell_type": "code",
   "execution_count": null,
   "metadata": {},
   "outputs": [],
   "source": []
  },
  {
   "cell_type": "code",
   "execution_count": null,
   "metadata": {},
   "outputs": [],
   "source": []
  },
  {
   "cell_type": "code",
   "execution_count": null,
   "metadata": {},
   "outputs": [],
   "source": []
  },
  {
   "cell_type": "code",
   "execution_count": null,
   "metadata": {},
   "outputs": [],
   "source": []
  },
  {
   "cell_type": "code",
   "execution_count": null,
   "metadata": {},
   "outputs": [],
   "source": []
  },
  {
   "cell_type": "code",
   "execution_count": null,
   "metadata": {},
   "outputs": [],
   "source": []
  },
  {
   "cell_type": "code",
   "execution_count": null,
   "metadata": {},
   "outputs": [],
   "source": []
  },
  {
   "cell_type": "code",
   "execution_count": null,
   "metadata": {},
   "outputs": [],
   "source": []
  },
  {
   "cell_type": "code",
   "execution_count": null,
   "metadata": {},
   "outputs": [],
   "source": []
  },
  {
   "cell_type": "code",
   "execution_count": null,
   "metadata": {},
   "outputs": [],
   "source": []
  },
  {
   "cell_type": "code",
   "execution_count": null,
   "metadata": {},
   "outputs": [],
   "source": []
  },
  {
   "cell_type": "code",
   "execution_count": null,
   "metadata": {},
   "outputs": [],
   "source": []
  },
  {
   "cell_type": "code",
   "execution_count": null,
   "metadata": {},
   "outputs": [],
   "source": []
  },
  {
   "cell_type": "code",
   "execution_count": null,
   "metadata": {},
   "outputs": [],
   "source": []
  },
  {
   "cell_type": "code",
   "execution_count": null,
   "metadata": {},
   "outputs": [],
   "source": []
  },
  {
   "cell_type": "code",
   "execution_count": null,
   "metadata": {},
   "outputs": [],
   "source": []
  },
  {
   "cell_type": "code",
   "execution_count": null,
   "metadata": {},
   "outputs": [],
   "source": []
  },
  {
   "cell_type": "code",
   "execution_count": null,
   "metadata": {},
   "outputs": [],
   "source": []
  },
  {
   "cell_type": "code",
   "execution_count": null,
   "metadata": {},
   "outputs": [],
   "source": []
  },
  {
   "cell_type": "code",
   "execution_count": null,
   "metadata": {},
   "outputs": [],
   "source": []
  },
  {
   "cell_type": "code",
   "execution_count": null,
   "metadata": {},
   "outputs": [],
   "source": []
  },
  {
   "cell_type": "code",
   "execution_count": null,
   "metadata": {},
   "outputs": [],
   "source": []
  },
  {
   "cell_type": "code",
   "execution_count": null,
   "metadata": {},
   "outputs": [],
   "source": []
  },
  {
   "cell_type": "code",
   "execution_count": null,
   "metadata": {},
   "outputs": [],
   "source": []
  },
  {
   "cell_type": "code",
   "execution_count": null,
   "metadata": {},
   "outputs": [],
   "source": []
  },
  {
   "cell_type": "code",
   "execution_count": null,
   "metadata": {},
   "outputs": [],
   "source": []
  },
  {
   "cell_type": "code",
   "execution_count": null,
   "metadata": {},
   "outputs": [],
   "source": []
  }
 ],
 "metadata": {
  "kernelspec": {
   "display_name": "Python 3",
   "language": "python",
   "name": "python3"
  },
  "language_info": {
   "codemirror_mode": {
    "name": "ipython",
    "version": 3
   },
   "file_extension": ".py",
   "mimetype": "text/x-python",
   "name": "python",
   "nbconvert_exporter": "python",
   "pygments_lexer": "ipython3",
   "version": "3.7.3"
  }
 },
 "nbformat": 4,
 "nbformat_minor": 4
}
