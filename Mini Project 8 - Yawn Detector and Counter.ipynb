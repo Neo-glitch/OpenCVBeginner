{
 "cells": [
  {
   "cell_type": "code",
   "execution_count": 3,
   "metadata": {},
   "outputs": [
    {
     "name": "stderr",
     "output_type": "stream",
     "text": [
      "<ipython-input-3-d26c441a3713>:65: FutureWarning: elementwise comparison failed; returning scalar instead, but in the future will perform elementwise comparison\n",
      "  if landmarks == \"error\":\n"
     ]
    }
   ],
   "source": [
    "import cv2\n",
    "import dlib\n",
    "import numpy as np\n",
    "\n",
    "predictor = dlib.shape_predictor(\"D:/Computer_Vision_Recap/shape_predictor_68_face_landmarks.dat\")\n",
    "detector = dlib.get_frontal_face_detector()\n",
    "\n",
    "\n",
    "def get_facial_landmarks(image):\n",
    "    # func gets the facial landmark from image\n",
    "    rects = detector(image, 1)          # gets ROI of the facial landmark\n",
    "    \n",
    "    if(len(rects) > 1):\n",
    "        return \"error\"\n",
    "    if(len(rects)) == 0:\n",
    "        return \"error\"\n",
    "    # returns reformatted array for annot landmarks func\n",
    "    return np.matrix([[p.x, p.y] for p in predictor(image, rects[0]).parts()])\n",
    "\n",
    "def annotate_landmarks(image, landmarks):\n",
    "    # func, numbers the detected landmarks\n",
    "    image = image.copy()\n",
    "    for idx, point in enumerate(landmarks):\n",
    "        pos = (point[0,0], point[0,1])\n",
    "        cv2.putText(image, str(idx), pos,\n",
    "                   cv2.FONT_HERSHEY_DUPLEX, 0.4, (255, 0, 0), 1)\n",
    "        cv2.circle(image, pos, 3, (0,0, 255), 1)\n",
    "    return image\n",
    "\n",
    "\n",
    "def top_lip(landmarks):\n",
    "    \"\"\"\n",
    "    uses xtracted landmarks arg to get the top lips landmarks\n",
    "    and ret ,center points\n",
    "    \"\"\"\n",
    "    top_lip_pts = []\n",
    "    for i in range(50, 53):    # range is landmark of top part of top lip\n",
    "        top_lip_pts.append(landmarks[i])\n",
    "    for i in range(61, 64):    # range is landmark points of btm part of top lip\n",
    "        top_lip_pts.append(landmarks[i])\n",
    "    top_lip_all_pts = np.squeeze(np.asarray(top_lip_pts))\n",
    "    top_lip_mean = np.mean(top_lip_pts, axis = 0)     # gets mid points of all the points for calc\n",
    "    return int(top_lip_mean[:,1])\n",
    "\n",
    "\n",
    "def bottom_lip(landmarks):\n",
    "    \"\"\"\n",
    "    uses xtracted landmarks to get the bottom lips landmarks\n",
    "    and ret center point \n",
    "    \"\"\"\n",
    "    bottom_lip_pts = []\n",
    "    for i in range(65, 68):\n",
    "        bottom_lip_pts.append(landmarks[i])\n",
    "    for i in range(56, 59):\n",
    "        bottom_lip_pts.append(landmarks[i])\n",
    "    bottom_lip_all_pts = np.squeeze(np.asarray(bottom_lip_pts))\n",
    "    bottom_lip_mean = np.mean(bottom_lip_pts, axis= 0)\n",
    "    \n",
    "    return int(bottom_lip_mean[:,1])\n",
    "\n",
    "\n",
    "def mouth_open(image):\n",
    "    # calc lip distance btw bottom and top lip points\n",
    "    landmarks = get_facial_landmarks(image)\n",
    "    if landmarks == \"error\":\n",
    "        return image, 0     # ret plain image and the lip instance is ret as 0 \n",
    "    \n",
    "    image_with_landmarks = annotate_landmarks(image, landmarks)\n",
    "    top_lip_center = top_lip(landmarks)\n",
    "    bottom_lip_center = bottom_lip(landmarks)\n",
    "    lip_distance = abs(top_lip_center - bottom_lip_center)\n",
    "    return image_with_landmarks, lip_distance\n",
    "\n",
    "cap = cv2.VideoCapture(0)\n",
    "yawns = 0              # holds total num of yawns\n",
    "yawn_status = False\n",
    "\n",
    "while True:\n",
    "    ret, frame = cap.read()\n",
    "    image_landmarks, lip_distance = mouth_open(frame)\n",
    "    \n",
    "    prev_yawn_status = yawn_status\n",
    "    \n",
    "    if lip_distance > 30:\n",
    "        yawn_status = True\n",
    "        cv2.putText(frame, \"Yawn Detected\", (50, 450), cv2.FONT_HERSHEY_SCRIPT_COMPLEX, \n",
    "                   1, (0, 0, 255), 2)\n",
    "        yawn_count = \"Yawn count: \" + str(yawns + 1)\n",
    "        cv2.putText(frame, yawn_count, (50, 50), cv2.FONT_HERSHEY_PLAIN,\n",
    "                   1, (255, 0, 0), 2)\n",
    "        \n",
    "    else:\n",
    "        yawn_status = False\n",
    "    if(prev_yawn_status == True and yawn_status == False):\n",
    "        yawns += 1      # doers updating of yawns count\n",
    "    cv2.imshow(\"Yawn Detector\", frame)\n",
    "    \n",
    "    if cv2.waitKey(1) == 13:\n",
    "        break\n",
    "\n",
    "cap.release()\n",
    "cv2.destroyAllWindows()\n"
   ]
  },
  {
   "cell_type": "code",
   "execution_count": null,
   "metadata": {},
   "outputs": [],
   "source": []
  },
  {
   "cell_type": "code",
   "execution_count": null,
   "metadata": {},
   "outputs": [],
   "source": []
  },
  {
   "cell_type": "code",
   "execution_count": null,
   "metadata": {},
   "outputs": [],
   "source": []
  },
  {
   "cell_type": "code",
   "execution_count": null,
   "metadata": {},
   "outputs": [],
   "source": []
  },
  {
   "cell_type": "code",
   "execution_count": null,
   "metadata": {},
   "outputs": [],
   "source": []
  },
  {
   "cell_type": "code",
   "execution_count": null,
   "metadata": {},
   "outputs": [],
   "source": []
  },
  {
   "cell_type": "code",
   "execution_count": null,
   "metadata": {},
   "outputs": [],
   "source": []
  },
  {
   "cell_type": "code",
   "execution_count": null,
   "metadata": {},
   "outputs": [],
   "source": []
  },
  {
   "cell_type": "code",
   "execution_count": null,
   "metadata": {},
   "outputs": [],
   "source": []
  },
  {
   "cell_type": "code",
   "execution_count": null,
   "metadata": {},
   "outputs": [],
   "source": []
  },
  {
   "cell_type": "code",
   "execution_count": null,
   "metadata": {},
   "outputs": [],
   "source": []
  },
  {
   "cell_type": "code",
   "execution_count": null,
   "metadata": {},
   "outputs": [],
   "source": []
  },
  {
   "cell_type": "code",
   "execution_count": null,
   "metadata": {},
   "outputs": [],
   "source": []
  },
  {
   "cell_type": "code",
   "execution_count": null,
   "metadata": {},
   "outputs": [],
   "source": []
  },
  {
   "cell_type": "code",
   "execution_count": null,
   "metadata": {},
   "outputs": [],
   "source": []
  },
  {
   "cell_type": "code",
   "execution_count": null,
   "metadata": {},
   "outputs": [],
   "source": []
  },
  {
   "cell_type": "code",
   "execution_count": null,
   "metadata": {},
   "outputs": [],
   "source": []
  },
  {
   "cell_type": "code",
   "execution_count": null,
   "metadata": {},
   "outputs": [],
   "source": []
  },
  {
   "cell_type": "code",
   "execution_count": null,
   "metadata": {},
   "outputs": [],
   "source": []
  },
  {
   "cell_type": "code",
   "execution_count": null,
   "metadata": {},
   "outputs": [],
   "source": []
  },
  {
   "cell_type": "code",
   "execution_count": null,
   "metadata": {},
   "outputs": [],
   "source": []
  },
  {
   "cell_type": "code",
   "execution_count": null,
   "metadata": {},
   "outputs": [],
   "source": []
  },
  {
   "cell_type": "code",
   "execution_count": null,
   "metadata": {},
   "outputs": [],
   "source": []
  },
  {
   "cell_type": "code",
   "execution_count": null,
   "metadata": {},
   "outputs": [],
   "source": []
  },
  {
   "cell_type": "code",
   "execution_count": null,
   "metadata": {},
   "outputs": [],
   "source": []
  },
  {
   "cell_type": "code",
   "execution_count": null,
   "metadata": {},
   "outputs": [],
   "source": []
  },
  {
   "cell_type": "code",
   "execution_count": null,
   "metadata": {},
   "outputs": [],
   "source": []
  },
  {
   "cell_type": "code",
   "execution_count": null,
   "metadata": {},
   "outputs": [],
   "source": []
  },
  {
   "cell_type": "code",
   "execution_count": null,
   "metadata": {},
   "outputs": [],
   "source": []
  },
  {
   "cell_type": "code",
   "execution_count": null,
   "metadata": {},
   "outputs": [],
   "source": []
  },
  {
   "cell_type": "code",
   "execution_count": null,
   "metadata": {},
   "outputs": [],
   "source": []
  },
  {
   "cell_type": "code",
   "execution_count": null,
   "metadata": {},
   "outputs": [],
   "source": []
  },
  {
   "cell_type": "code",
   "execution_count": null,
   "metadata": {},
   "outputs": [],
   "source": []
  },
  {
   "cell_type": "code",
   "execution_count": null,
   "metadata": {},
   "outputs": [],
   "source": []
  },
  {
   "cell_type": "code",
   "execution_count": null,
   "metadata": {},
   "outputs": [],
   "source": []
  },
  {
   "cell_type": "code",
   "execution_count": null,
   "metadata": {},
   "outputs": [],
   "source": []
  },
  {
   "cell_type": "code",
   "execution_count": null,
   "metadata": {},
   "outputs": [],
   "source": []
  },
  {
   "cell_type": "code",
   "execution_count": null,
   "metadata": {},
   "outputs": [],
   "source": []
  },
  {
   "cell_type": "code",
   "execution_count": null,
   "metadata": {},
   "outputs": [],
   "source": []
  },
  {
   "cell_type": "code",
   "execution_count": null,
   "metadata": {},
   "outputs": [],
   "source": []
  },
  {
   "cell_type": "code",
   "execution_count": null,
   "metadata": {},
   "outputs": [],
   "source": []
  },
  {
   "cell_type": "code",
   "execution_count": null,
   "metadata": {},
   "outputs": [],
   "source": []
  },
  {
   "cell_type": "code",
   "execution_count": null,
   "metadata": {},
   "outputs": [],
   "source": []
  },
  {
   "cell_type": "code",
   "execution_count": null,
   "metadata": {},
   "outputs": [],
   "source": []
  },
  {
   "cell_type": "code",
   "execution_count": null,
   "metadata": {},
   "outputs": [],
   "source": []
  },
  {
   "cell_type": "code",
   "execution_count": null,
   "metadata": {},
   "outputs": [],
   "source": []
  },
  {
   "cell_type": "code",
   "execution_count": null,
   "metadata": {},
   "outputs": [],
   "source": []
  },
  {
   "cell_type": "code",
   "execution_count": null,
   "metadata": {},
   "outputs": [],
   "source": []
  },
  {
   "cell_type": "code",
   "execution_count": null,
   "metadata": {},
   "outputs": [],
   "source": []
  },
  {
   "cell_type": "code",
   "execution_count": null,
   "metadata": {},
   "outputs": [],
   "source": []
  },
  {
   "cell_type": "code",
   "execution_count": null,
   "metadata": {},
   "outputs": [],
   "source": []
  },
  {
   "cell_type": "code",
   "execution_count": null,
   "metadata": {},
   "outputs": [],
   "source": []
  },
  {
   "cell_type": "code",
   "execution_count": null,
   "metadata": {},
   "outputs": [],
   "source": []
  },
  {
   "cell_type": "code",
   "execution_count": null,
   "metadata": {},
   "outputs": [],
   "source": []
  },
  {
   "cell_type": "code",
   "execution_count": null,
   "metadata": {},
   "outputs": [],
   "source": []
  },
  {
   "cell_type": "code",
   "execution_count": null,
   "metadata": {},
   "outputs": [],
   "source": []
  },
  {
   "cell_type": "code",
   "execution_count": null,
   "metadata": {},
   "outputs": [],
   "source": []
  },
  {
   "cell_type": "code",
   "execution_count": null,
   "metadata": {},
   "outputs": [],
   "source": []
  },
  {
   "cell_type": "code",
   "execution_count": null,
   "metadata": {},
   "outputs": [],
   "source": []
  },
  {
   "cell_type": "code",
   "execution_count": null,
   "metadata": {},
   "outputs": [],
   "source": []
  },
  {
   "cell_type": "code",
   "execution_count": null,
   "metadata": {},
   "outputs": [],
   "source": []
  },
  {
   "cell_type": "code",
   "execution_count": null,
   "metadata": {},
   "outputs": [],
   "source": []
  },
  {
   "cell_type": "code",
   "execution_count": null,
   "metadata": {},
   "outputs": [],
   "source": []
  },
  {
   "cell_type": "code",
   "execution_count": null,
   "metadata": {},
   "outputs": [],
   "source": []
  },
  {
   "cell_type": "code",
   "execution_count": null,
   "metadata": {},
   "outputs": [],
   "source": []
  },
  {
   "cell_type": "code",
   "execution_count": null,
   "metadata": {},
   "outputs": [],
   "source": []
  },
  {
   "cell_type": "code",
   "execution_count": null,
   "metadata": {},
   "outputs": [],
   "source": []
  },
  {
   "cell_type": "code",
   "execution_count": null,
   "metadata": {},
   "outputs": [],
   "source": []
  }
 ],
 "metadata": {
  "kernelspec": {
   "display_name": "Python 3",
   "language": "python",
   "name": "python3"
  },
  "language_info": {
   "codemirror_mode": {
    "name": "ipython",
    "version": 3
   },
   "file_extension": ".py",
   "mimetype": "text/x-python",
   "name": "python",
   "nbconvert_exporter": "python",
   "pygments_lexer": "ipython3",
   "version": "3.8.3"
  }
 },
 "nbformat": 4,
 "nbformat_minor": 4
}
