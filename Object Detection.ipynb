{
 "cells": [
  {
   "cell_type": "markdown",
   "metadata": {},
   "source": [
    "#### Finding Corners and using as a feature"
   ]
  },
  {
   "cell_type": "code",
   "execution_count": null,
   "metadata": {},
   "outputs": [],
   "source": [
    "import cv2\n",
    "import numpy as np\n",
    "\n",
    "# before running use run: pip install opencv-contrib-python to install contrib opencv module\n",
    "\n",
    "\n",
    "image = cv2.imread(\"D:/Computer_Vision_Recap/images/chess.jpg\")\n",
    "gray_image = cv2.cvtColor(image, cv2.COLOR_BGR2GRAY)\n",
    "\n",
    "# conv image from array dtype to float32\n",
    "gray_image = np.float32(gray_image)\n",
    "\n",
    "harris_corners = cv2.cornerHarris(gray_image, 3, 3, 0.05)     # gets the corner locations in the image\n",
    "\n",
    "# dilation is used to enlarge corner loc by adding pixels\n",
    "kernel = np.ones((7,7), np.uint8)\n",
    "enlarged_harris_corners = cv2.dilate(harris_corners, kernel = kernel, iterations = 2)\n",
    "\n",
    "# thereshold for optimal value to change colors of corners\n",
    "image[enlarged_harris_corners > 0.025 * enlarged_harris_corners.max()] = [0, 100, 255]\n",
    "\n",
    "cv2.imshow(\"The Harris Corners\", image)\n",
    "cv2.waitKey(0)\n",
    "cv2.destroyAllWindows()"
   ]
  },
  {
   "cell_type": "code",
   "execution_count": null,
   "metadata": {},
   "outputs": [],
   "source": [
    "# Alternate Improved Corner detect - GoodFeaturesToTrack\n",
    "import cv2\n",
    "import numpy as np\n",
    "\n",
    "img = cv2.imread(\"D:/Computer_Vision_Recap/images/chess.jpg\")\n",
    "gray_img = cv2.cvtColor(img, cv2.COLOR_BGR2GRAY)\n",
    "\n",
    "# 60 is max num_corners\n",
    "corners = cv2.goodFeaturesToTrack(gray_img, maxCorners = 60, qualityLevel = 0.05, minDistance = 16)\n",
    "\n",
    "for corner in corners:\n",
    "    # iterates through each corner and plot the rectangle\n",
    "    x, y = corner[0]\n",
    "    x = int(x)\n",
    "    y= int(y)\n",
    "    cv2.rectangle(img, (x-5, y -10), (x+10, y+10), (0,0, 255), 3)\n",
    "\n",
    "cv2.imshow(\"Good Feature To Track corners\", img)\n",
    "cv2.waitKey(0)\n",
    "cv2.destroyAllWindows()"
   ]
  },
  {
   "cell_type": "markdown",
   "metadata": {},
   "source": [
    "***\n",
    "#### Feature Detection(SIFT, SURF, FAST, BRIEF, ORB)"
   ]
  },
  {
   "cell_type": "code",
   "execution_count": null,
   "metadata": {},
   "outputs": [],
   "source": []
  },
  {
   "cell_type": "code",
   "execution_count": 1,
   "metadata": {
    "scrolled": true
   },
   "outputs": [
    {
     "ename": "AttributeError",
     "evalue": "module 'cv2.cv2' has no attribute 'xfeatures2d_SIFT_create'",
     "output_type": "error",
     "traceback": [
      "\u001b[1;31m---------------------------------------------------------------------------\u001b[0m",
      "\u001b[1;31mAttributeError\u001b[0m                            Traceback (most recent call last)",
      "\u001b[1;32m<ipython-input-1-a966cf419a44>\u001b[0m in \u001b[0;36m<module>\u001b[1;34m\u001b[0m\n\u001b[0;32m      7\u001b[0m \u001b[0mgray_image\u001b[0m \u001b[1;33m=\u001b[0m \u001b[0mcv2\u001b[0m\u001b[1;33m.\u001b[0m\u001b[0mcvtColor\u001b[0m\u001b[1;33m(\u001b[0m\u001b[0mimage\u001b[0m\u001b[1;33m,\u001b[0m \u001b[0mcv2\u001b[0m\u001b[1;33m.\u001b[0m\u001b[0mCOLOR_BGR2GRAY\u001b[0m\u001b[1;33m)\u001b[0m\u001b[1;33m\u001b[0m\u001b[1;33m\u001b[0m\u001b[0m\n\u001b[0;32m      8\u001b[0m \u001b[1;33m\u001b[0m\u001b[0m\n\u001b[1;32m----> 9\u001b[1;33m \u001b[0msift_detector\u001b[0m \u001b[1;33m=\u001b[0m \u001b[0mcv2\u001b[0m\u001b[1;33m.\u001b[0m\u001b[0mxfeatures2d_SIFT_create\u001b[0m\u001b[1;33m(\u001b[0m\u001b[1;33m)\u001b[0m\u001b[1;33m\u001b[0m\u001b[1;33m\u001b[0m\u001b[0m\n\u001b[0m\u001b[0;32m     10\u001b[0m \u001b[1;33m\u001b[0m\u001b[0m\n\u001b[0;32m     11\u001b[0m \u001b[1;31m# detect keypoints\u001b[0m\u001b[1;33m\u001b[0m\u001b[1;33m\u001b[0m\u001b[1;33m\u001b[0m\u001b[0m\n",
      "\u001b[1;31mAttributeError\u001b[0m: module 'cv2.cv2' has no attribute 'xfeatures2d_SIFT_create'"
     ]
    }
   ],
   "source": [
    "# SIFT(can be used in production app, patented)\n",
    "\n",
    "import cv2\n",
    "import numpy as np\n",
    "\n",
    "image = cv2.imread(\"D:/Computer_Vision_Recap/images/input.jpg\")\n",
    "gray_image = cv2.cvtColor(image, cv2.COLOR_BGR2GRAY)\n",
    "\n",
    "sift_detector = cv2.SIFT()\n",
    "\n",
    "# detect keypoints\n",
    "keypoints = sift.detect(gray_image, None)\n",
    "print(\"Number of points detected: \", len(keypoints))\n",
    "\n",
    "image_with_keypoints = cv2.drawKeypoints(image, keypoints, cv2.DrawMatchesFlags_DRAW_RICH_KEYPOINTS)\n",
    "\n",
    "cv2.imshow(\"Feature Method-SIFT\", image_with_keypoints)\n",
    "cv2.waitKey(0)\n",
    "cv2.destroyAllWindows()"
   ]
  },
  {
   "cell_type": "code",
   "execution_count": 3,
   "metadata": {},
   "outputs": [
    {
     "ename": "error",
     "evalue": "OpenCV(4.2.0) C:\\projects\\opencv-python\\opencv_contrib\\modules\\xfeatures2d\\src\\surf.cpp:1029: error: (-213:The function/feature is not implemented) This algorithm is patented and is excluded in this configuration; Set OPENCV_ENABLE_NONFREE CMake option and rebuild the library in function 'cv::xfeatures2d::SURF::create'\n",
     "output_type": "error",
     "traceback": [
      "\u001b[1;31m---------------------------------------------------------------------------\u001b[0m",
      "\u001b[1;31merror\u001b[0m                                     Traceback (most recent call last)",
      "\u001b[1;32m<ipython-input-3-c610bc610b4f>\u001b[0m in \u001b[0;36m<module>\u001b[1;34m\u001b[0m\n\u001b[0;32m      6\u001b[0m \u001b[0mgray_image\u001b[0m \u001b[1;33m=\u001b[0m \u001b[0mcv2\u001b[0m\u001b[1;33m.\u001b[0m\u001b[0mcvtColor\u001b[0m\u001b[1;33m(\u001b[0m\u001b[0mimage\u001b[0m\u001b[1;33m,\u001b[0m \u001b[0mcv2\u001b[0m\u001b[1;33m.\u001b[0m\u001b[0mCOLOR_BGR2GRAY\u001b[0m\u001b[1;33m)\u001b[0m\u001b[1;33m\u001b[0m\u001b[1;33m\u001b[0m\u001b[0m\n\u001b[0;32m      7\u001b[0m \u001b[1;33m\u001b[0m\u001b[0m\n\u001b[1;32m----> 8\u001b[1;33m \u001b[0msurf_detector\u001b[0m \u001b[1;33m=\u001b[0m \u001b[0mcv2\u001b[0m\u001b[1;33m.\u001b[0m\u001b[0mxfeatures2d_SURF\u001b[0m\u001b[1;33m.\u001b[0m\u001b[0mcreate\u001b[0m\u001b[1;33m(\u001b[0m\u001b[1;33m)\u001b[0m\u001b[1;33m\u001b[0m\u001b[1;33m\u001b[0m\u001b[0m\n\u001b[0m\u001b[0;32m      9\u001b[0m \u001b[1;33m\u001b[0m\u001b[0m\n\u001b[0;32m     10\u001b[0m \u001b[1;31m# detect keypoints and only features whose hessin > threshold(7000) are retained by detector\u001b[0m\u001b[1;33m\u001b[0m\u001b[1;33m\u001b[0m\u001b[1;33m\u001b[0m\u001b[0m\n",
      "\u001b[1;31merror\u001b[0m: OpenCV(4.2.0) C:\\projects\\opencv-python\\opencv_contrib\\modules\\xfeatures2d\\src\\surf.cpp:1029: error: (-213:The function/feature is not implemented) This algorithm is patented and is excluded in this configuration; Set OPENCV_ENABLE_NONFREE CMake option and rebuild the library in function 'cv::xfeatures2d::SURF::create'\n"
     ]
    }
   ],
   "source": [
    "# SURF(Patented and can't be used in production app)\n",
    "import cv2\n",
    "import numpy as np\n",
    "\n",
    "image = cv2.imread(\"D:/Computer_Vision_Recap/images/input.jpg\")\n",
    "gray_image = cv2.cvtColor(image, cv2.COLOR_BGR2GRAY)\n",
    "\n",
    "surf_detector = cv2.SURF()\n",
    "\n",
    "# detect keypoints and only features whose hessin > threshold(7000) are retained by detector\n",
    "surf_detector.hessianThreshold = 7500\n",
    "keypoints, descriptors = sift.detectAndCompute(gray_image, None)\n",
    "print(\"Number of points detected: \", len(keypoints))\n",
    "\n",
    "image_with_keypoints = cv2.drawKeypoints(image, keypoints, cv2.DrawMatchesFlags_DRAW_RICH_KEYPOINTS)\n",
    "\n",
    "cv2.imshow(\"Feature Method-SURF\", image_with_keypoints)\n",
    "cv2.waitKey(0)\n",
    "cv2.destroyAllWindows()\n"
   ]
  },
  {
   "cell_type": "code",
   "execution_count": 1,
   "metadata": {},
   "outputs": [
    {
     "name": "stdout",
     "output_type": "stream",
     "text": [
      "Number of points detected:  8963\n"
     ]
    }
   ],
   "source": [
    "# FAST\n",
    "import cv2\n",
    "import numpy as np\n",
    "\n",
    "image = cv2.imread(\"D:/Computer_Vision_Recap/images/input.jpg\")\n",
    "gray_image = cv2.cvtColor(image, cv2.COLOR_BGR2GRAY)\n",
    "\n",
    "fast_detector = cv2.FastFeatureDetector_create()\n",
    "\n",
    "# keypoints and by def non max suppressino is on, to turn off\n",
    "# set fast_detector.setBool(\"nonmaxSuppression\", False)\n",
    "keypoints = fast_detector.detect(gray_image, None)\n",
    "print(\"Number of points detected: \", len(keypoints))\n",
    "\n",
    "image_with_keypoints = cv2.drawKeypoints(image, keypoints, cv2.DrawMatchesFlags_DRAW_RICH_KEYPOINTS)\n",
    "\n",
    "cv2.imshow(\"Feature Method-FAST\", image_with_keypoints)\n",
    "cv2.waitKey(0)\n",
    "cv2.destroyAllWindows()\n"
   ]
  },
  {
   "cell_type": "code",
   "execution_count": null,
   "metadata": {},
   "outputs": [],
   "source": [
    "# BRIEF(patented )\n",
    "import cv2\n",
    "import numpy as np\n",
    "import matplotlib.pyplot as plt\n",
    "\n",
    "\n",
    "image = cv2.imread(\"D:/Computer_Vision_Recap/images/input.jpg\")\n",
    "gray_image = cv2.cvtColor(image, cv2.COLOR_BGR2GRAY)\n",
    "\n",
    "# fast detector object\n",
    "fast_detector = cv2.FastFeatureDetector_create()\n",
    "\n",
    "# brief detector obj\n",
    "brief_detector = cv2.DescriptorExtractor_create(\"BRIEF\")\n",
    "\n",
    "# det keypoints using fast\n",
    "keypoints = fast_detector.detect(gray_image, None)\n",
    "\n",
    "# obtain the descriptors and new final keypoints using brief\n",
    "keypoints, descriptors = brief_detector.compute(gray_image, keypoints)\n",
    "print(\"Number of points detected: \", len(keypoints))\n",
    "\n",
    "image_with_keypoints = cv2.drawKeypoints(image, keypoints, cv2.DrawMatchesFlags_DRAW_RICH_KEYPOINTS)\n",
    "\n",
    "cv2.imshow(\"Feature Method-BRIEF\", image_with_keypoints)\n",
    "cv2.waitKey(0)\n",
    "cv2.destroyAllWindows()\n"
   ]
  },
  {
   "cell_type": "code",
   "execution_count": 2,
   "metadata": {},
   "outputs": [
    {
     "name": "stdout",
     "output_type": "stream",
     "text": [
      "Number of points detected:  8003\n"
     ]
    }
   ],
   "source": [
    "# ORB\n",
    "import cv2\n",
    "import numpy as np\n",
    "\n",
    "image = cv2.imread(\"D:/Computer_Vision_Recap/images/input.jpg\")\n",
    "gray_image = cv2.cvtColor(image, cv2.COLOR_BGR2GRAY)\n",
    "\n",
    "#ORB obj, with num of keypoints set to 1500\n",
    "orb_detector = cv2.ORB_create(8500)\n",
    "\n",
    "# det keypoints\n",
    "keypoints = orb_detector.detect(gray_image, None)\n",
    "\n",
    "# obtain descriptors\n",
    "keypoints, descriptors = orb_detector.compute(gray_image, keypoints)\n",
    "print(\"Number of points detected: \", len(keypoints))\n",
    "\n",
    "image_with_keypoints = cv2.drawKeypoints(image, keypoints, cv2.DrawMatchesFlags_DRAW_RICH_KEYPOINTS)\n",
    "\n",
    "cv2.imshow(\"Feature Method-ORB\", image_with_keypoints)\n",
    "cv2.waitKey(0)\n",
    "cv2.destroyAllWindows()\n"
   ]
  },
  {
   "cell_type": "markdown",
   "metadata": {},
   "source": [
    "***\n",
    "### Histogram of Oriented Gradients\n",
    "\n",
    "**Note yet Understood**"
   ]
  },
  {
   "cell_type": "code",
   "execution_count": 4,
   "metadata": {},
   "outputs": [
    {
     "data": {
      "image/png": "[encoded data removed]",
      "text/plain": [
       "<Figure size 432x288 with 2 Axes>"
      ]
     },
     "metadata": {
      "needs_background": "light"
     },
     "output_type": "display_data"
    }
   ],
   "source": [
    "import numpy as np\n",
    "import cv2\n",
    "import matplotlib.pyplot as plt\n",
    "\n",
    "image = cv2.imread(\"D:/Computer_Vision_Recap/images/elephant.jpg\")\n",
    "gray_image = cv2.cvtColor(image, cv2.COLOR_BGR2GRAY)\n",
    "\n",
    "\n",
    "# height and widt in pixels\n",
    "cell_size = (8, 8)\n",
    "\n",
    "# height and width in cells\n",
    "block_size = (2,2)\n",
    "\n",
    "# num of orientation bins \n",
    "nbins = 9\n",
    "\n",
    "# def HOG descriptor and winSize is size of image cropped to multiple of cell size\n",
    "hog_descriptor = cv2.HOGDescriptor(\n",
    "    _winSize = (gray_image.shape[1] // cell_size[1] * cell_size[1],\n",
    "               gray_image.shape[0] // cell_size[0] * cell_size[0]),\n",
    "    _blockSize=(block_size[1] * cell_size[1],\n",
    "               block_size[0] * cell_size[0]),\n",
    "    _blockStride=(cell_size[1], cell_size[0]),\n",
    "    _cellSize = (cell_size[1], cell_size[0]),\n",
    "    _nbins=nbins\n",
    ")\n",
    "\n",
    "\n",
    "# create np array shape for the hog features\n",
    "n_cells = (gray_image.shape[0] // cell_size[0], gray_image.shape[1] // cell_size[1])\n",
    "\n",
    "\n",
    "\n",
    "# gets the n features(by rows idx), hog features contains gradient amp for \n",
    "# each dir, for each cell of its group for each group\n",
    "hog_features = hog_descriptor.compute(gray_image).reshape(n_cells[1] - block_size[1] + 1,\n",
    "                                                         n_cells[0] - block_size[0] + 1,\n",
    "                                                         block_size[0], block_size[1], nbins).transpose((1, 0, 2, 3, 4))\n",
    "\n",
    "# create gradient array with nbin dim to store gradient orientations\n",
    "gradients = np.zeros((n_cells[0], n_cells[1], nbins))\n",
    "\n",
    "# create array for cell dim\n",
    "cell_count = np.full((n_cells[0], n_cells[1], 1), 0, np.int)\n",
    "\n",
    "\n",
    "# Block normalization\n",
    "for off_y in range(block_size[0]):\n",
    "    for off_x in range(block_size[1]):\n",
    "        gradients[off_y:n_cells[0] - block_size[0] + off_y + 1,\n",
    "                 off_x:n_cells[1] - block_size[1] + off_x + 1] += \\\n",
    "            hog_features[:, :, off_y, off_x, :]\n",
    "        cell_count[off_y:n_cells[0] - block_size[0] + off_y + 1,\n",
    "                 off_x:n_cells[1] - block_size[1] + off_x + 1] += 1\n",
    "        \n",
    "# avg gradients\n",
    "gradients /= cell_count\n",
    "\n",
    "\n",
    "\n",
    "# plots HOG and angle is 360 / nbins * direction\n",
    "color_bins = 6\n",
    "plt.pcolor(gradients[:, :, color_bins])\n",
    "plt.gca().invert_yaxis()\n",
    "plt.gca().set_aspect(\"equal\", adjustable = \"box\")\n",
    "plt.colorbar()\n",
    "plt.show()\n",
    "cv2.destroyAllWindows()"
   ]
  },
  {
   "cell_type": "code",
   "execution_count": null,
   "metadata": {},
   "outputs": [],
   "source": []
  },
  {
   "cell_type": "code",
   "execution_count": null,
   "metadata": {},
   "outputs": [],
   "source": []
  },
  {
   "cell_type": "code",
   "execution_count": null,
   "metadata": {},
   "outputs": [],
   "source": []
  },
  {
   "cell_type": "code",
   "execution_count": null,
   "metadata": {},
   "outputs": [],
   "source": []
  },
  {
   "cell_type": "code",
   "execution_count": null,
   "metadata": {},
   "outputs": [],
   "source": []
  },
  {
   "cell_type": "code",
   "execution_count": null,
   "metadata": {},
   "outputs": [],
   "source": []
  },
  {
   "cell_type": "code",
   "execution_count": null,
   "metadata": {},
   "outputs": [],
   "source": []
  },
  {
   "cell_type": "code",
   "execution_count": null,
   "metadata": {},
   "outputs": [],
   "source": []
  },
  {
   "cell_type": "code",
   "execution_count": null,
   "metadata": {},
   "outputs": [],
   "source": []
  },
  {
   "cell_type": "code",
   "execution_count": null,
   "metadata": {},
   "outputs": [],
   "source": []
  },
  {
   "cell_type": "code",
   "execution_count": null,
   "metadata": {},
   "outputs": [],
   "source": []
  },
  {
   "cell_type": "code",
   "execution_count": null,
   "metadata": {},
   "outputs": [],
   "source": []
  },
  {
   "cell_type": "code",
   "execution_count": null,
   "metadata": {},
   "outputs": [],
   "source": []
  },
  {
   "cell_type": "code",
   "execution_count": null,
   "metadata": {},
   "outputs": [],
   "source": []
  },
  {
   "cell_type": "code",
   "execution_count": null,
   "metadata": {},
   "outputs": [],
   "source": []
  },
  {
   "cell_type": "code",
   "execution_count": null,
   "metadata": {},
   "outputs": [],
   "source": []
  },
  {
   "cell_type": "code",
   "execution_count": null,
   "metadata": {},
   "outputs": [],
   "source": []
  },
  {
   "cell_type": "code",
   "execution_count": null,
   "metadata": {},
   "outputs": [],
   "source": []
  },
  {
   "cell_type": "code",
   "execution_count": null,
   "metadata": {},
   "outputs": [],
   "source": []
  },
  {
   "cell_type": "code",
   "execution_count": null,
   "metadata": {},
   "outputs": [],
   "source": []
  },
  {
   "cell_type": "code",
   "execution_count": null,
   "metadata": {},
   "outputs": [],
   "source": []
  },
  {
   "cell_type": "code",
   "execution_count": null,
   "metadata": {},
   "outputs": [],
   "source": []
  },
  {
   "cell_type": "code",
   "execution_count": null,
   "metadata": {},
   "outputs": [],
   "source": []
  },
  {
   "cell_type": "code",
   "execution_count": null,
   "metadata": {},
   "outputs": [],
   "source": []
  },
  {
   "cell_type": "code",
   "execution_count": null,
   "metadata": {},
   "outputs": [],
   "source": []
  },
  {
   "cell_type": "code",
   "execution_count": null,
   "metadata": {},
   "outputs": [],
   "source": []
  }
 ],
 "metadata": {
  "kernelspec": {
   "display_name": "Python 3",
   "language": "python",
   "name": "python3"
  },
  "language_info": {
   "codemirror_mode": {
    "name": "ipython",
    "version": 3
   },
   "file_extension": ".py",
   "mimetype": "text/x-python",
   "name": "python",
   "nbconvert_exporter": "python",
   "pygments_lexer": "ipython3",
   "version": "3.7.3"
  }
 },
 "nbformat": 4,
 "nbformat_minor": 2
}
