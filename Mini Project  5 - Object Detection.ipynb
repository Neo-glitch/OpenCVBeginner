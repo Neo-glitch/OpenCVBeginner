{
 "cells": [
  {
   "cell_type": "markdown",
   "metadata": {},
   "source": [
    "### SIFT Object Detection"
   ]
  },
  {
   "cell_type": "code",
   "execution_count": null,
   "metadata": {},
   "outputs": [],
   "source": [
    "# Object Detection using SIFT(not working now, # patented)\n",
    "\n",
    "import cv2\n",
    "import numpy as np\n",
    "\n",
    "\n",
    "def sift_detector(new_image, image_template):\n",
    "    \"\"\"\n",
    "    func matches new_image(input) with image template and \n",
    "    returns num of matches found btw them\n",
    "    \"\"\"\n",
    "    \n",
    "    image1 = cv2.cvtColor(new_image, cv2.COLOR_BGR2GRAY)\n",
    "    image2 = image_template\n",
    "    \n",
    "    # create SIFT detector obj\n",
    "    sift = cv2.SIFT()\n",
    "    \n",
    "    # gets kp and descriptors\n",
    "    keypoints_1, descriptors_1 = sift.detectAndCompute(image1, None)\n",
    "    keypoints_2, descriptors_2 = sift.detectAndCompute(image2, None)\n",
    "    \n",
    "    # def params for Flann matcher\n",
    "    FLANN_INDEX_KDTREE = 0\n",
    "    index_params = dict(algorithm = FLANN_INDEX_KDTREE, trees = 3)  # more trees the slower it gets\n",
    "    search_params = dict(checks = 100)\n",
    "    \n",
    "    # create flann matcher obj\n",
    "    flann = cv2.FlannBasedMatcher_create(index_params, search_params)\n",
    "    \n",
    "    # Obtains matches using KNN method\n",
    "    matches = flann.KnnMatch(descriptors_1, descriptors_2, k =2)\n",
    "    \n",
    "    # stores good matches using Lowe's ratio test\n",
    "    good_matches = []\n",
    "    for m, n in matches:\n",
    "        if m.distance < 0.7 * n.distance:\n",
    "            good_matches.append(m)\n",
    "    return len(good_matches)\n",
    "\n",
    "\n",
    "\n",
    "\n",
    "# init webcam\n",
    "cap = cv2.VideoCapture(0)\n",
    "\n",
    "# loads the image template to be matched against\n",
    "image_template = cv2.imread(\"D:/Computer_Vision_Recap/images/Box_in_scene.png\", 0)\n",
    "\n",
    "while True:\n",
    "    ret, frame = cap.read()\n",
    "    height, width = frame.shape[:2]\n",
    "    \n",
    "    # def ROI dimensions\n",
    "    top_left_x = int(width / 3)\n",
    "    top_left_y = int((height / 2) + (height / 4))\n",
    "    bottom_right_x = int((width / 3) * 2)\n",
    "    bottom_right_y = int((height / 2) - (height / 4))\n",
    "    \n",
    "    # draw rectangular window around def region of interest\n",
    "    cv2.rectangle(frame, (top_left_x, top_left_y), (bottom_right_x, bottom_right_y), 254, 3)\n",
    "    \n",
    "    # crop the ROI out for matching with the image template\n",
    "    cropped_image = frame[bottom_right_y:top_left_y, top_left_x:bottom_right_x]\n",
    "    \n",
    "    frame = cv2.flip(frame, 1)       # flip frame for mirror like effect\n",
    "    \n",
    "    #use func def above to get num of matches(similar keypoints)\n",
    "    matches = sift_detector(cropped_image, image_template)\n",
    "    cv2.putText(frame, str(matches), (450, 450), cv2.FONT_HERSHEY_PLAIN, 2, (255, 0, 0), 1)\n",
    "    \n",
    "    threshold = 30\n",
    "    if matches > threshold:   # object detected\n",
    "        cv2.rectangle(frame, (top_left_x, top_left_y), (bottom_right_x, bottom_right_y), (0, 0, 255), 2)\n",
    "        cv2.putText(frame, \"Object found\", (50, 50), cv2.FONT_HERSHEY_PLAIN, 2, (255, 0, 0), 1)\n",
    "        \n",
    "    cv2.imshow(\"Object Detector - SIFT\", frame)\n",
    "    if cv2.waitKey(1) == 13:\n",
    "        break;\n",
    "        \n",
    "cap.release()\n",
    "cv2.destroyAllWindows()"
   ]
  },
  {
   "cell_type": "markdown",
   "metadata": {},
   "source": [
    "#### Object Detection - ORB"
   ]
  },
  {
   "cell_type": "code",
   "execution_count": 5,
   "metadata": {},
   "outputs": [],
   "source": [
    "import cv2\n",
    "import numpy as np\n",
    "\n",
    "\n",
    "def ORB_detector(new_image, image_template):\n",
    "    \"\"\"\n",
    "    func matches new_image(input) with image template and \n",
    "    returns num of matches found btw them\n",
    "    \"\"\"\n",
    "    \n",
    "    image1 = cv2.cvtColor(new_image, cv2.COLOR_BGR2GRAY)\n",
    "    image2 = image_template\n",
    "    \n",
    "    # create ORB detector with 1000 kp and scaling pyramid factor of 1.2\n",
    "    orb = cv2.ORB_create(1000, 1.2)\n",
    "    \n",
    "    # gets kp and descriptors\n",
    "    (keypoints_1, descriptors_1) = orb.detectAndCompute(image1, None)\n",
    "    (keypoints_2, descriptors_2) = orb.detectAndCompute(image2, None)\n",
    "    \n",
    "    \n",
    "    # create BruteForce Mathcer(more accurate than flannBased)\n",
    "    bf = cv2.BFMatcher_create(cv2.NORM_HAMMING, crossCheck = True)\n",
    "    \n",
    "    # Obtains matches\n",
    "    matches = bf.match(descriptors_1, descriptors_2)\n",
    "    \n",
    "    # sorts matches based on distanc and least dist is better\n",
    "    matches = sorted(matches, key=lambda val: val.distance)\n",
    "    return len(matches)\n",
    "\n",
    "\n",
    "\n",
    "\n",
    "# init webcam\n",
    "cap = cv2.VideoCapture(0)\n",
    "\n",
    "# loads the image template to be matched against\n",
    "image_template = cv2.imread(\"D:/Computer_Vision_Recap/images/Box_in_scene.png\", 0)\n",
    "\n",
    "while True:\n",
    "    ret, frame = cap.read()\n",
    "    height, width = frame.shape[:2]\n",
    "    \n",
    "    # def ROI dimensions\n",
    "    top_left_x = int(width / 3)\n",
    "    top_left_y = int((height / 2) + (height / 4))\n",
    "    bottom_right_x = int((width / 3) * 2)\n",
    "    bottom_right_y = int((height / 2) - (height / 4))\n",
    "    \n",
    "    # draw rectangular window around def region of interest\n",
    "    cv2.rectangle(frame, (top_left_x, top_left_y), (bottom_right_x, bottom_right_y), 255, 3)\n",
    "    \n",
    "    # crop the ROI out for matching with the image template\n",
    "    cropped_image = frame[bottom_right_y:top_left_y, top_left_x:bottom_right_x]\n",
    "    \n",
    "    frame = cv2.flip(frame, 1)       # flip frame for mirror like effect\n",
    "    \n",
    "    #use func def above to get num of matches(similar keypoints)\n",
    "    matches = ORB_detector(cropped_image, image_template)\n",
    "    output = \"Matches = \" + str(matches)\n",
    "    cv2.putText(frame, output, (50, 450), cv2.FONT_HERSHEY_PLAIN, 2, (255, 0, 0), 2)\n",
    "    \n",
    "    threshold = 200\n",
    "    if matches > threshold:   # object detected\n",
    "        cv2.rectangle(frame, (top_left_x, top_left_y), (bottom_right_x, bottom_right_y), (0, 0, 255), 2)\n",
    "        cv2.putText(frame, \"Object found\", (50, 50), cv2.FONT_HERSHEY_PLAIN, 2, (255, 0, 0), 1)\n",
    "        \n",
    "    cv2.imshow(\"Object Detector - ORB\", frame)\n",
    "    if cv2.waitKey(1) == 13:\n",
    "        break;\n",
    "        \n",
    "cap.release()\n",
    "cv2.destroyAllWindows()"
   ]
  },
  {
   "cell_type": "code",
   "execution_count": 3,
   "metadata": {},
   "outputs": [
    {
     "ename": "TypeError",
     "evalue": "an integer is required (got type tuple)",
     "output_type": "error",
     "traceback": [
      "\u001b[1;31m---------------------------------------------------------------------------\u001b[0m",
      "\u001b[1;31mTypeError\u001b[0m                                 Traceback (most recent call last)",
      "\u001b[1;32m<ipython-input-3-aa9647bf1f88>\u001b[0m in \u001b[0;36m<module>\u001b[1;34m\u001b[0m\n\u001b[0;32m      3\u001b[0m \u001b[1;33m\u001b[0m\u001b[0m\n\u001b[0;32m      4\u001b[0m \u001b[0mimage\u001b[0m \u001b[1;33m=\u001b[0m \u001b[0mnp\u001b[0m\u001b[1;33m.\u001b[0m\u001b[0mones\u001b[0m\u001b[1;33m(\u001b[0m\u001b[1;33m(\u001b[0m\u001b[1;36m500\u001b[0m\u001b[1;33m,\u001b[0m \u001b[1;36m400\u001b[0m\u001b[1;33m,\u001b[0m \u001b[1;36m3\u001b[0m\u001b[1;33m)\u001b[0m\u001b[1;33m,\u001b[0m \u001b[0mnp\u001b[0m\u001b[1;33m.\u001b[0m\u001b[0muint8\u001b[0m\u001b[1;33m)\u001b[0m\u001b[1;33m\u001b[0m\u001b[1;33m\u001b[0m\u001b[0m\n\u001b[1;32m----> 5\u001b[1;33m \u001b[0mcv2\u001b[0m\u001b[1;33m.\u001b[0m\u001b[0mrectangle\u001b[0m\u001b[1;33m(\u001b[0m\u001b[0mimage\u001b[0m\u001b[1;33m,\u001b[0m \u001b[1;33m(\u001b[0m\u001b[1;36m50.5\u001b[0m\u001b[1;33m,\u001b[0m \u001b[1;36m50\u001b[0m\u001b[1;33m)\u001b[0m\u001b[1;33m,\u001b[0m \u001b[1;33m(\u001b[0m\u001b[1;36m200\u001b[0m\u001b[1;33m,\u001b[0m \u001b[1;36m150\u001b[0m\u001b[1;33m)\u001b[0m\u001b[1;33m,\u001b[0m \u001b[1;33m(\u001b[0m\u001b[1;36m255\u001b[0m\u001b[1;33m,\u001b[0m \u001b[1;36m0\u001b[0m\u001b[1;33m,\u001b[0m\u001b[1;36m0\u001b[0m\u001b[1;33m)\u001b[0m\u001b[1;33m,\u001b[0m \u001b[1;36m3\u001b[0m\u001b[1;33m)\u001b[0m\u001b[1;33m\u001b[0m\u001b[1;33m\u001b[0m\u001b[0m\n\u001b[0m\u001b[0;32m      6\u001b[0m \u001b[0mcv2\u001b[0m\u001b[1;33m.\u001b[0m\u001b[0mimshow\u001b[0m\u001b[1;33m(\u001b[0m\u001b[1;34m\"Test\"\u001b[0m\u001b[1;33m,\u001b[0m \u001b[0mimage\u001b[0m\u001b[1;33m)\u001b[0m\u001b[1;33m\u001b[0m\u001b[1;33m\u001b[0m\u001b[0m\n\u001b[0;32m      7\u001b[0m \u001b[0mcv2\u001b[0m\u001b[1;33m.\u001b[0m\u001b[0mwaitKey\u001b[0m\u001b[1;33m(\u001b[0m\u001b[1;36m0\u001b[0m\u001b[1;33m)\u001b[0m\u001b[1;33m\u001b[0m\u001b[1;33m\u001b[0m\u001b[0m\n",
      "\u001b[1;31mTypeError\u001b[0m: an integer is required (got type tuple)"
     ]
    }
   ],
   "source": [
    "import cv2\n",
    "import numpy as np\n",
    "\n",
    "image = np.ones((500, 400, 3), np.uint8)\n",
    "cv2.rectangle(image, (50.5, 50), (200, 150), (255, 0,0), 3)\n",
    "cv2.imshow(\"Test\", image)\n",
    "cv2.waitKey(0)\n",
    "cv2.destroyAllWindows()"
   ]
  },
  {
   "cell_type": "code",
   "execution_count": null,
   "metadata": {},
   "outputs": [],
   "source": []
  },
  {
   "cell_type": "code",
   "execution_count": null,
   "metadata": {},
   "outputs": [],
   "source": []
  },
  {
   "cell_type": "code",
   "execution_count": null,
   "metadata": {},
   "outputs": [],
   "source": []
  },
  {
   "cell_type": "code",
   "execution_count": null,
   "metadata": {},
   "outputs": [],
   "source": []
  },
  {
   "cell_type": "code",
   "execution_count": null,
   "metadata": {},
   "outputs": [],
   "source": []
  },
  {
   "cell_type": "code",
   "execution_count": null,
   "metadata": {},
   "outputs": [],
   "source": []
  },
  {
   "cell_type": "code",
   "execution_count": null,
   "metadata": {},
   "outputs": [],
   "source": []
  },
  {
   "cell_type": "code",
   "execution_count": null,
   "metadata": {},
   "outputs": [],
   "source": []
  },
  {
   "cell_type": "code",
   "execution_count": null,
   "metadata": {},
   "outputs": [],
   "source": []
  },
  {
   "cell_type": "code",
   "execution_count": null,
   "metadata": {},
   "outputs": [],
   "source": []
  },
  {
   "cell_type": "code",
   "execution_count": null,
   "metadata": {},
   "outputs": [],
   "source": []
  },
  {
   "cell_type": "code",
   "execution_count": null,
   "metadata": {},
   "outputs": [],
   "source": []
  },
  {
   "cell_type": "code",
   "execution_count": null,
   "metadata": {},
   "outputs": [],
   "source": []
  },
  {
   "cell_type": "code",
   "execution_count": null,
   "metadata": {},
   "outputs": [],
   "source": []
  },
  {
   "cell_type": "code",
   "execution_count": null,
   "metadata": {},
   "outputs": [],
   "source": []
  },
  {
   "cell_type": "code",
   "execution_count": null,
   "metadata": {},
   "outputs": [],
   "source": []
  },
  {
   "cell_type": "code",
   "execution_count": null,
   "metadata": {},
   "outputs": [],
   "source": []
  },
  {
   "cell_type": "code",
   "execution_count": null,
   "metadata": {},
   "outputs": [],
   "source": []
  },
  {
   "cell_type": "code",
   "execution_count": null,
   "metadata": {},
   "outputs": [],
   "source": []
  },
  {
   "cell_type": "code",
   "execution_count": null,
   "metadata": {},
   "outputs": [],
   "source": []
  },
  {
   "cell_type": "code",
   "execution_count": null,
   "metadata": {},
   "outputs": [],
   "source": []
  },
  {
   "cell_type": "code",
   "execution_count": null,
   "metadata": {},
   "outputs": [],
   "source": []
  },
  {
   "cell_type": "code",
   "execution_count": null,
   "metadata": {},
   "outputs": [],
   "source": []
  },
  {
   "cell_type": "code",
   "execution_count": null,
   "metadata": {},
   "outputs": [],
   "source": []
  },
  {
   "cell_type": "code",
   "execution_count": null,
   "metadata": {},
   "outputs": [],
   "source": []
  },
  {
   "cell_type": "code",
   "execution_count": null,
   "metadata": {},
   "outputs": [],
   "source": []
  },
  {
   "cell_type": "code",
   "execution_count": null,
   "metadata": {},
   "outputs": [],
   "source": []
  },
  {
   "cell_type": "code",
   "execution_count": null,
   "metadata": {},
   "outputs": [],
   "source": []
  },
  {
   "cell_type": "code",
   "execution_count": null,
   "metadata": {},
   "outputs": [],
   "source": []
  },
  {
   "cell_type": "code",
   "execution_count": null,
   "metadata": {},
   "outputs": [],
   "source": []
  },
  {
   "cell_type": "code",
   "execution_count": null,
   "metadata": {},
   "outputs": [],
   "source": []
  },
  {
   "cell_type": "code",
   "execution_count": null,
   "metadata": {},
   "outputs": [],
   "source": []
  },
  {
   "cell_type": "code",
   "execution_count": null,
   "metadata": {},
   "outputs": [],
   "source": []
  },
  {
   "cell_type": "code",
   "execution_count": null,
   "metadata": {},
   "outputs": [],
   "source": []
  },
  {
   "cell_type": "code",
   "execution_count": null,
   "metadata": {},
   "outputs": [],
   "source": []
  },
  {
   "cell_type": "code",
   "execution_count": null,
   "metadata": {},
   "outputs": [],
   "source": []
  },
  {
   "cell_type": "code",
   "execution_count": null,
   "metadata": {},
   "outputs": [],
   "source": []
  }
 ],
 "metadata": {
  "kernelspec": {
   "display_name": "Python 3",
   "language": "python",
   "name": "python3"
  },
  "language_info": {
   "codemirror_mode": {
    "name": "ipython",
    "version": 3
   },
   "file_extension": ".py",
   "mimetype": "text/x-python",
   "name": "python",
   "nbconvert_exporter": "python",
   "pygments_lexer": "ipython3",
   "version": "3.7.3"
  }
 },
 "nbformat": 4,
 "nbformat_minor": 4
}
